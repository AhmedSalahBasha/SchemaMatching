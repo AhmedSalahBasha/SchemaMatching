{
 "cells": [
  {
   "cell_type": "code",
   "execution_count": 1,
   "metadata": {
    "collapsed": true
   },
   "outputs": [],
   "source": [
    "from difflib import SequenceMatcher\n",
    "import pandas as pd\n",
    "import numpy as np\n",
    "import collections"
   ]
  },
  {
   "cell_type": "code",
   "execution_count": 2,
   "metadata": {
    "collapsed": true
   },
   "outputs": [],
   "source": [
    "#READ DATA:\n",
    "IMDB_DF = pd.read_csv(\"imdb.csv\")\n",
    "imdb_header = list(IMDB_DF.columns.values)\n",
    "\n",
    "#imdb_header\n",
    "tbl1 = np.array(imdb_header)\n",
    "ROTTEN_TOMATOES_DF = pd.read_csv(\"rotten_tomatoes.csv\")\n",
    "rt_header = list(ROTTEN_TOMATOES_DF.columns.values)\n",
    "#rt_header\n",
    "tbl2 = np.array(rt_header)"
   ]
  },
  {
   "cell_type": "code",
   "execution_count": 3,
   "metadata": {
    "collapsed": true
   },
   "outputs": [],
   "source": [
    "#creation array to add sort index of matching\n",
    "# For matching\n",
    "Pref=np.zeros((len(tbl1),len(tbl2)))\n",
    "#for Tomatoes\n",
    "pref_tom=np.zeros((len(tbl1),len(tbl2)),dtype=np.int8)\n",
    "ipref_tom=np.zeros((len(tbl1),len(tbl2)),dtype=np.int8)\n",
    "#for IMdb\n",
    "ipref_imdb=np.zeros((len(tbl2),len(tbl1)),dtype=np.int8)\n",
    "pref_imdb=np.zeros((len(tbl2),len(tbl1)),dtype=np.int8)"
   ]
  },
  {
   "cell_type": "code",
   "execution_count": 4,
   "metadata": {
    "collapsed": true
   },
   "outputs": [],
   "source": [
    "#assign the matching ratio between tbl1 and tbl2\n",
    "for i in range(len(tbl1)):\n",
    "    for j in range(len(tbl2)):\n",
    "        Pref[i,j] = np.int(100*SequenceMatcher(None,tbl1[i],tbl2[j]).ratio())\n",
    "#df = pd.DataFrame(Pref)\n",
    "#df.to_csv(\"file_path.csv\")"
   ]
  },
  {
   "cell_type": "code",
   "execution_count": 5,
   "metadata": {
    "collapsed": true
   },
   "outputs": [],
   "source": [
    "#assign the array indexs of Pref sorted by the actual values decending based on the lenght of tbl2 (17)\n",
    "for i in range(len(tbl2)):\n",
    "    ipref_tom[:,i]=np.argsort(Pref[:,i])\n",
    "    ipref_tom[:,i]=ipref_tom[::-1,i]\n",
    "    pref_tom[:,i]=np.sort(Pref[:,i])\n",
    "    pref_tom[:,i]=pref_tom[::-1,i]\n",
    "#ipref_tom"
   ]
  },
  {
   "cell_type": "code",
   "execution_count": 6,
   "metadata": {
    "collapsed": true
   },
   "outputs": [],
   "source": [
    "#assign the array indexs of Pref sorted by the actual values decending based on the lenght of tbl1 (13)\n",
    "for i in range(len(tbl1)):\n",
    "    #get indexs values of rows and store them in the rows as well\n",
    "    ipref_imdb[:,i] = np.argsort(Pref[i,:])\n",
    "    ipref_imdb[:,i] = ipref_imdb[::-1,i]\n",
    "    pref_imdb[:,i] = np.sort(Pref[i,:])\n",
    "  #  pref_imdb[:,i] = pref_imdb[::-1,i]\n",
    "#ipref_imdb"
   ]
  },
  {
   "cell_type": "code",
   "execution_count": 7,
   "metadata": {
    "collapsed": true
   },
   "outputs": [],
   "source": [
    "#create list of preferred_rankings_tomatoes with header\n",
    "preferred_rankings_tomatoes = {}\n",
    "for i in range(len(tbl2)):\n",
    "    # for j in range(len(ipref_tom)):\n",
    "            preferred_rankings_tomatoes[i] = ipref_tom[:,i]\n",
    "#        pref_Rotten_tomatoes[i][i] = pref_tom[j,i]\n",
    "#df = pd.DataFrame(preferred_rankings_tomatoes)\n",
    "#df.to_csv(\"preferred_rankings_tomatoes.csv\")"
   ]
  },
  {
   "cell_type": "code",
   "execution_count": 8,
   "metadata": {
    "collapsed": true
   },
   "outputs": [],
   "source": [
    "#create list of preferred_rankings_Imdb with header\n",
    "preferred_rankings_imdb = {}\n",
    "for i in range(len(tbl1)):\n",
    "    # for j in range(len(ipref_tom)):\n",
    "            preferred_rankings_imdb[i] = ipref_imdb[:,i]\n",
    "#df = pd.DataFrame(preferred_rankings_imdb)\n",
    "#df.to_csv(\"preferred_rankings_imdb.csv\")\n",
    "#preferred_rankings_imdb\n",
    "#preferred_rankings_imdb[1]"
   ]
  },
  {
   "cell_type": "code",
   "execution_count": 45,
   "metadata": {
    "collapsed": true
   },
   "outputs": [],
   "source": [
    "tentative_engagements = []\n",
    "free_imdbs = []\n",
    "corresponacy1 = []"
   ]
  },
  {
   "cell_type": "code",
   "execution_count": 49,
   "metadata": {
    "collapsed": true
   },
   "outputs": [],
   "source": [
    "#Imdb which still need to propose and get accepted successfully\n",
    "#Keep track of the headers that \"may\" end up together\n",
    "def init_free_imdbs():\n",
    "    #corresponacy1 = list.clear()\n",
    "    #'''Initialize the arrays of tomates and imdbs to represent that they're all initially free and not engaged'''\n",
    "    for imdb in preferred_rankings_imdb.keys():\n",
    "        free_imdbs.append(imdb)"
   ]
  },
  {
   "cell_type": "code",
   "execution_count": 95,
   "metadata": {
    "collapsed": true
   },
   "outputs": [],
   "source": [
    "def begin_matching(imdb):\n",
    "    #  '''Find the first free Tomaten available to a Imdb at any given time'''\n",
    "    #print(\"DEALING WITH %s\"%(imdb))\n",
    "    #print(preferred_rankings_imdb[imdb])\n",
    "    for tomate in preferred_rankings_imdb[imdb]:\n",
    "        #Boolean for whether tomate is taken or not\n",
    "        taken_match = [couple for couple in tentative_engagements if tomate == couple [:][1]]\n",
    "        if (len(taken_match) == 0):\n",
    "            #tentatively engage the man and woman\n",
    "            tentative_engagements.append([imdb, tomate])\n",
    "            free_imdbs.remove(imdb)\n",
    "            #print('%s is no longer a free imdb and is now tentatively engaged to %s'%( imdb, tomate))\n",
    "            break\n",
    "        elif (len(taken_match) > 0):\n",
    "            #print('%s is taken already..'%(tomate))\n",
    "            #print('%s tttt..'%(taken_match[0][0]))\n",
    "            current_imdb = list(preferred_rankings_tomatoes[tomate].tolist()).index(taken_match[0][0])\n",
    "            potential_imdb = list(preferred_rankings_tomatoes[tomate].tolist()).index(imdb)\n",
    "            #print('potential_imdb %s..'%(current_imdb))\n",
    "            if (current_imdb < potential_imdb):\n",
    "                ii=[]\n",
    "                #print('Tomataen\\'s satisfied with %s..'%(taken_match[0][0]))\n",
    "            else: \n",
    "                #print('%s is better than %s'%(imdb, taken_match[0][0]))\n",
    "                #print('Making %s free again.. and tentatively engaging %s and %s'%(taken_match[0][0], imdb, tomate))\n",
    "                #The new imdb is engaged\n",
    "                free_imdbs.remove(imdb)\n",
    "                #The old imdb is now single\n",
    "                free_imdbs.append(taken_match[0][0])\n",
    "                #Update the fiance of the tomaten (tentatively)\n",
    "                taken_match[0][0] = imdb\n",
    "                break\n"
   ]
  },
  {
   "cell_type": "code",
   "execution_count": 96,
   "metadata": {
    "collapsed": true
   },
   "outputs": [],
   "source": [
    "def stable_matching():\n",
    "    '''Matching algorithm until stable match terminates'''\n",
    "    while (len(free_imdbs) > 0):\n",
    "        for imdb in free_imdbs:\n",
    "            begin_matching(imdb)"
   ]
  },
  {
   "cell_type": "code",
   "execution_count": 97,
   "metadata": {
    "collapsed": true
   },
   "outputs": [],
   "source": [
    "def output():\n",
    "    i = 0\n",
    "    for item in tentative_engagements:\n",
    "        matching=Pref[item[0],item[1]]\n",
    "        if(matching > 50.0):\n",
    "            corresponacy1.append(item)\n",
    "            print(i ,'. CORRECT \\t(',tbl1[item[0]],tbl2[item[1]],')with % of matching',matching)\n",
    "            i+=1\n",
    "        else:\n",
    "                print(i,'. Wrong \\t',tbl1[item[0]],tbl2[item[1]],'with % of matching',matching)\n",
    "                i+=1\n",
    "    found =len(corresponacy1) - 1\n",
    "    print('A:Number of the discovered correspondences that are in G(withoutID)',found)\n",
    "    print('B:Number of all the discovered correspondences',len(corresponacy1))\n",
    "    print('precision(A/B):',found/len(corresponacy1)*100)\n",
    "    print('recall(A/Number of all the actual correspondences = 10):',(found/10)*100)\n",
    "    "
   ]
  },
  {
   "cell_type": "code",
   "execution_count": 99,
   "metadata": {},
   "outputs": [
    {
     "name": "stdout",
     "output_type": "stream",
     "text": [
      "0 . CORRECT \t( Id Id )with % of matching 100.0\n",
      "1 . CORRECT \t( YearRange Year )with % of matching 61.0\n",
      "2 . CORRECT \t( Director Director )with % of matching 100.0\n",
      "3 . CORRECT \t( Cast Cast )with % of matching 100.0\n",
      "4 . CORRECT \t( RatingValue RatingValue )with % of matching 100.0\n",
      "5 . CORRECT \t( Genre Genre )with % of matching 100.0\n",
      "6 . CORRECT \t( Description Description )with % of matching 100.0\n",
      "7 . CORRECT \t( Name Name )with % of matching 100.0\n",
      "8 . CORRECT \t( Creator Creator )with % of matching 100.0\n",
      "9 . Wrong \t ContentRating RatingCount with % of matching 50.0\n",
      "10 . CORRECT \t( ReleaseDate Release Date )with % of matching 95.0\n",
      "11 . Wrong \t Url Actors with % of matching 22.0\n",
      "12 . CORRECT \t( Duration Duration )with % of matching 100.0\n",
      "A:Number of the discovered correspondences that are in G(withoutID) 10\n",
      "B:Number of all the discovered correspondences 11\n",
      "precision(A/B): 90.9090909090909\n",
      "recall(A/Number of all the actual correspondences = 10): 100.0\n"
     ]
    }
   ],
   "source": [
    "def main():\n",
    "    tentative_engagements.clear()\n",
    "    free_imdbs.clear()\n",
    "    corresponacy1.clear()\n",
    "    init_free_imdbs()\n",
    "    #print('%s before %s'%tentative_engagements)\n",
    "    #print(free_imdbs)\n",
    "    stable_matching()\n",
    "    output()\n",
    "main()"
   ]
  },
  {
   "cell_type": "code",
   "execution_count": null,
   "metadata": {
    "collapsed": true
   },
   "outputs": [],
   "source": []
  }
 ],
 "metadata": {
  "kernelspec": {
   "display_name": "Python 3",
   "language": "python",
   "name": "python3"
  },
  "language_info": {
   "codemirror_mode": {
    "name": "ipython",
    "version": 3
   },
   "file_extension": ".py",
   "mimetype": "text/x-python",
   "name": "python",
   "nbconvert_exporter": "python",
   "pygments_lexer": "ipython3",
   "version": "3.6.1"
  }
 },
 "nbformat": 4,
 "nbformat_minor": 2
}
