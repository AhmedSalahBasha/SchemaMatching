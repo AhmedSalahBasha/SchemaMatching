{
 "cells": [
  {
   "cell_type": "markdown",
   "metadata": {},
   "source": [
    "<h1 align=\"center\">The 800 pound Gorilla in the corner: Data Integration</h1>\n",
    "<h2 align=\"center\">Assignment 1: Schema Matching</h2>\n",
    "<h3 align=\"center\">Gruppe T</h3>\n",
    "<ul>\n",
    "    <li><b>Ahmed Salah Basha</b></li>\n",
    "    <li><b>Joseph Francis</b></li>\n",
    "    <li><b>Meletework Kebede Tamene</b></li>\n",
    "</ul>"
   ]
  },
  {
   "attachments": {},
   "cell_type": "markdown",
   "metadata": {},
   "source": [
    "<h3>Task1: Label-Based Schema Matching</h3>\n",
    "<ul>\n",
    "    <li><b>Algorithm</b></li>\n",
    "    <ol>\n",
    "        <li>Read only the header of the dataset</li>\n",
    "        <li>Make an array with height and width of both headers</li>\n",
    "        <li>Loop through headers and get the similartity ratio inside the array</li>\n",
    "        <li>Implement the Stable Marriage Algorithm</li>\n",
    "        <li>Get matched pairs of column names</li>\n",
    "    </ol>\n",
    "    <li><b>Input</b></li>\n",
    "    <ul>\n",
    "        <li>List of IMDB header columns names</li>\n",
    "        <li>List of ROTTEN_TOMMATOES header columns names</li>\n",
    "    </ul>\n",
    "    <li><b>Output</b></li>\n",
    "    <ul>\n",
    "        <li>List of matched pairs and precision and recall</li>\n",
    "    </ul>\n",
    "    <li><b>Similarity Function</b></li>\n",
    "    <ul>\n",
    "        <li>from difflib import SequenceMatcher</li>\n",
    "    </ul>\n",
    "    <li><b>Effective Parameters</b></li>\n",
    "    <ul>\n",
    "        <li>threshold</li>\n",
    "    </ul>\n",
    "    <li><b>Upsides and Downsides</b></li>\n",
    "    <li><b>Time Complexity</b></li>\n",
    "    <ul>\n",
    "        <li>O(n^2) in worst case</li>\n",
    "    </ul>\n",
    "</ul>"
   ]
  },
  {
   "cell_type": "markdown",
   "metadata": {},
   "source": [
    "<h3>Task2: Instance-Based Schema Matching</h3>\n",
    "<ul>\n",
    "    <li><b>Algorithm</b></li>\n",
    "    <ol>\n",
    "        <li>Read the two datasets</li>\n",
    "        <li>Make an array with height and width of both headers</li>\n",
    "        <li>Loop through each column values and get the similartity ratio between values inside the array</li>\n",
    "        <li>Implement the Stable Marriage Algorithm</li>\n",
    "        <li>Get matched pairs of columns based on a specific value of threshold</li>\n",
    "    </ol>\n",
    "    <li><b>Input</b></li>\n",
    "    <ul>\n",
    "        <li>IMDB Dataframe</li>\n",
    "        <li>ROTTEN_TOMMATOES Dataframe</li>\n",
    "    </ul>\n",
    "    <li><b>Output</b></li>\n",
    "    <ul>\n",
    "        <li>List of matched pairs and precision and recall</li>\n",
    "    </ul>\n",
    "    <li><b>Similarity Function</b></li>\n",
    "    <ul>\n",
    "        <li>from fuzzywuzzy import fuzz</li>\n",
    "    </ul>\n",
    "    <li><b>Effective Parameters</b></li>\n",
    "    <ul>\n",
    "        <li>threshold</li>\n",
    "    </ul>\n",
    "    <li><b>Upsides and Downsides</b></li>\n",
    "    <li><b>Time Complexity</b></li>\n",
    "    <ul>\n",
    "        <li>O(n^2) in worst case</li>\n",
    "    </ul>\n",
    "</ul>"
   ]
  },
  {
   "cell_type": "code",
   "execution_count": 1,
   "metadata": {},
   "outputs": [
    {
     "name": "stderr",
     "output_type": "stream",
     "text": [
      "C:\\Users\\ahmed\\Anaconda3\\lib\\site-packages\\fuzzywuzzy\\fuzz.py:35: UserWarning: Using slow pure-python SequenceMatcher. Install python-Levenshtein to remove this warning\n",
      "  warnings.warn('Using slow pure-python SequenceMatcher. Install python-Levenshtein to remove this warning')\n"
     ]
    }
   ],
   "source": [
    "import numpy,datetime,re\n",
    "import pandas as pd\n",
    "import numpy as np\n",
    "from fuzzywuzzy import fuzz\n",
    "from fuzzywuzzy import process\n",
    "from difflib import SequenceMatcher"
   ]
  },
  {
   "cell_type": "code",
   "execution_count": 2,
   "metadata": {
    "collapsed": true
   },
   "outputs": [],
   "source": [
    "tentative_engagements = []\n",
    "free_imdbs = []\n",
    "corresponacy1 = []"
   ]
  },
  {
   "cell_type": "code",
   "execution_count": 3,
   "metadata": {
    "collapsed": true
   },
   "outputs": [],
   "source": [
    "def importdatasets():\n",
    "    #READ DATA:\n",
    "    IMDB_DF = pd.read_csv(\"imdb.csv\")\n",
    "    #for task2\n",
    "    IMDB_DF_SAMPLE = IMDB_DF.sample(100).astype(str)\n",
    "\n",
    "    imdb_header = list(IMDB_DF.columns.values)\n",
    "\n",
    "    #imdb_header for task 1\n",
    "    tbl1 = np.array(imdb_header)\n",
    "\n",
    "    ROTTEN_TOMATOES_DF = pd.read_csv(\"rotten_tomatoes.csv\")\n",
    "    #for task2\n",
    "    ROTTEN_TOMATOES_DF_SAMPLE = ROTTEN_TOMATOES_DF.sample(100).astype(str)\n",
    "    rt_header = list(ROTTEN_TOMATOES_DF.columns.values)\n",
    "    #rt_header for task1\n",
    "    tbl2 = np.array(rt_header)\n",
    "\n",
    "    return IMDB_DF_SAMPLE,tbl1,ROTTEN_TOMATOES_DF_SAMPLE,tbl2"
   ]
  },
  {
   "cell_type": "code",
   "execution_count": 4,
   "metadata": {
    "collapsed": true
   },
   "outputs": [],
   "source": [
    "def matchingtablebyheaders(tbl1,tbl2):\n",
    "          #creation array to add sort index of matching\n",
    "    # For matching\n",
    "    Pref=np.zeros((len(tbl1),len(tbl2)))\n",
    "        #assign the matching ratio between tbl1 and tbl2\n",
    "    for i in range(len(tbl1)):\n",
    "        for j in range(len(tbl2)):\n",
    "            Pref[i,j] = np.int(100*SequenceMatcher(None,tbl1[i],tbl2[j]).ratio())\n",
    "    #df = pd.DataFrame(Pref)\n",
    "    #df.to_csv(\"file_path.csv\")\n",
    "    return Pref"
   ]
  },
  {
   "cell_type": "code",
   "execution_count": 5,
   "metadata": {
    "collapsed": true
   },
   "outputs": [],
   "source": [
    "def listofpreferencespertable(tbl1,tbl2,Pref):\n",
    "        #for Tomatoes\n",
    "    ipref_tom=np.zeros((len(tbl1),len(tbl2)),dtype=np.int8)\n",
    "    #for IMdb\n",
    "    ipref_imdb=np.zeros((len(tbl2),len(tbl1)),dtype=np.int8)\n",
    "    pref_imdb=np.zeros((len(tbl2),len(tbl1)),dtype=np.int8)\n",
    "    preferred_rankings_tomatoes = {}\n",
    "    preferred_rankings_imdb = {}\n",
    "    #create list of preferred_rankings_tomatoes with header\n",
    "    #assign the array indexs of Pref sorted by the actual values decending based on the lenght of tbl2 (17)\n",
    "    for i in range(len(tbl2)):\n",
    "        ipref_tom[:,i]=np.argsort(Pref[:,i])\n",
    "        ipref_tom[:,i]=ipref_tom[::-1,i]\n",
    "        preferred_rankings_tomatoes[i] = ipref_tom[:,i]\n",
    "        #pref_tom[:,i]=np.sort(Pref[:,i])\n",
    "        #pref_tom[:,i]=pref_tom[::-1,i]\n",
    "    #ipref_tom\n",
    "\n",
    "    #create list of preferred_rankings_Imdb with header\n",
    "    #assign the array indexs of Pref sorted by the actual values decending based on the lenght of tbl1 (13)\n",
    "    for i in range(len(tbl1)):\n",
    "        #get indexs values of rows and store them in the rows as well\n",
    "        ipref_imdb[:,i] = np.argsort(Pref[i,:])\n",
    "        ipref_imdb[:,i] = ipref_imdb[::-1,i]\n",
    "        preferred_rankings_imdb[i] = ipref_imdb[:,i]\n",
    "        #pref_imdb[:,i] = np.sort(Pref[i,:])\n",
    "      #  pref_imdb[:,i] = pref_imdb[::-1,i]\n",
    "    #ipref_imdb\n",
    "    return preferred_rankings_imdb,preferred_rankings_tomatoes"
   ]
  },
  {
   "cell_type": "code",
   "execution_count": 6,
   "metadata": {
    "collapsed": true
   },
   "outputs": [],
   "source": [
    "#Imdb which still need to propose and get accepted successfully\n",
    "#Keep track of the headers that \"may\" end up together\n",
    "def init_free_imdbs(preferred_rankings_imdb):\n",
    "    #corresponacy1 = list.clear()\n",
    "    #'''Initialize the arrays of tomates and imdbs to represent that they're all initially free and not engaged'''\n",
    "    for imdb in preferred_rankings_imdb.keys():\n",
    "        free_imdbs.append(imdb)"
   ]
  },
  {
   "cell_type": "code",
   "execution_count": 7,
   "metadata": {
    "collapsed": true
   },
   "outputs": [],
   "source": [
    "def begin_matching(imdb,preferred_rankings_imdb,preferred_rankings_tomatoes):\n",
    "    #  '''Find the first free Tomaten available to a Imdb at any given time'''\n",
    "    #print(\"DEALING WITH %s\"%(imdb))\n",
    "    #print(preferred_rankings_imdb[imdb])\n",
    "    for tomate in preferred_rankings_imdb[imdb]:\n",
    "        #Boolean for whether tomate is taken or not\n",
    "        taken_match = [couple for couple in tentative_engagements if tomate == couple [:][1]]\n",
    "        if (len(taken_match) == 0):\n",
    "            #tentatively engage the man and woman\n",
    "            tentative_engagements.append([imdb, tomate])\n",
    "            free_imdbs.remove(imdb)\n",
    "            #print('%s is no longer a free imdb and is now tentatively engaged to %s'%( imdb, tomate))\n",
    "            break\n",
    "        elif (len(taken_match) > 0):\n",
    "            #print('%s is taken already..'%(tomate))\n",
    "            #print('%s tttt..'%(taken_match[0][0]))\n",
    "            current_imdb = list(preferred_rankings_tomatoes[tomate].tolist()).index(taken_match[0][0])\n",
    "            potential_imdb = list(preferred_rankings_tomatoes[tomate].tolist()).index(imdb)\n",
    "            #print('potential_imdb %s..'%(current_imdb))\n",
    "            if (current_imdb < potential_imdb):\n",
    "                ii=[]\n",
    "                #print('Tomataen\\'s satisfied with %s..'%(taken_match[0][0]))\n",
    "            else: \n",
    "                #print('%s is better than %s'%(imdb, taken_match[0][0]))\n",
    "                #print('Making %s free again.. and tentatively engaging %s and %s'%(taken_match[0][0], imdb, tomate))\n",
    "                #The new imdb is engaged\n",
    "                free_imdbs.remove(imdb)\n",
    "                #The old imdb is now single\n",
    "                free_imdbs.append(taken_match[0][0])\n",
    "                #Update the fiance of the tomaten (tentatively)\n",
    "                taken_match[0][0] = imdb\n",
    "                break"
   ]
  },
  {
   "cell_type": "code",
   "execution_count": 8,
   "metadata": {
    "collapsed": true
   },
   "outputs": [],
   "source": [
    "def stable_matching(preferred_rankings_imdb,preferred_rankings_tomatoes):\n",
    "    '''Matching algorithm until stable match terminates'''\n",
    "    while (len(free_imdbs) > 0):\n",
    "        for imdb in free_imdbs:\n",
    "            begin_matching(imdb,preferred_rankings_imdb,preferred_rankings_tomatoes)"
   ]
  },
  {
   "cell_type": "code",
   "execution_count": 9,
   "metadata": {
    "collapsed": true
   },
   "outputs": [],
   "source": [
    "def check_short_matching(COL1,COL2):\n",
    "    rate = 0.0\n",
    "    if str(COL1) == 'nan' or str(COL2) == 'nan' :\n",
    "        return 0\n",
    "    COL1 = str(COL1)\n",
    "    COL2 = str(COL2)\n",
    "    sw = (fuzz.SequenceMatcher(None,COL1, COL2).ratio())\n",
    "    return sw #/(max(len(COL1),len(COL2))*1.0)"
   ]
  },
  {
   "cell_type": "code",
   "execution_count": 10,
   "metadata": {
    "collapsed": true
   },
   "outputs": [],
   "source": [
    "def check_match(st1,st2):\n",
    "    str1 = np.array((st1.values).astype(str))\n",
    "    str2 = np.array((st2.values).astype(str))\n",
    "    ret = np.zeros((len(str1),len(str2)))\n",
    "    for i in range(len(str1)):\n",
    "        for j in range(len(str2)):\n",
    "            ret[i,j] = check_short_matching(str1[i],str2[j])\n",
    "    return numpy.average(ret)"
   ]
  },
  {
   "cell_type": "code",
   "execution_count": 14,
   "metadata": {
    "collapsed": true
   },
   "outputs": [],
   "source": [
    "def matchingtablebyvalues(IMDB_DF_SAMPLE,ROTTEN_TOMATOES_DF_SAMPLE,tbl1,tbl2):\n",
    "    dd = []\n",
    "    ret = []\n",
    "    value1 = []\n",
    "    value2 = []\n",
    "    index_i = 0\n",
    "    Pref=np.zeros((len(tbl1),len(tbl2)))\n",
    "    for i in IMDB_DF_SAMPLE:\n",
    "        dd = []\n",
    "        index_j = 0\n",
    "        for j in ROTTEN_TOMATOES_DF_SAMPLE:\n",
    "            table1 = IMDB_DF_SAMPLE[i]\n",
    "            table2 = ROTTEN_TOMATOES_DF_SAMPLE[j]\n",
    "            value1 = (table1.values).astype(str)\n",
    "            value2 = (table2.values).astype(str)\n",
    "            #dd.append([ 100* (check_match(table1, table2)),i,j])\n",
    "            Pref[index_i,index_j] = 100 * (np.float(check_match(table1, table2)))\n",
    "            index_j+=1\n",
    "        index_i+=1\n",
    "    return Pref"
   ]
  },
  {
   "cell_type": "code",
   "execution_count": 19,
   "metadata": {
    "collapsed": true
   },
   "outputs": [],
   "source": [
    "def outputforcolumns(tbl1,tbl2,Pref):\n",
    "    i = 0\n",
    "    for item in tentative_engagements:\n",
    "        matching=Pref[item[0],item[1]]\n",
    "        if(matching > 50.0):\n",
    "            corresponacy1.append(item)\n",
    "            print(i ,'. CORRECT \\t(',tbl1[item[0]],' - ',tbl2[item[1]],') with matching',matching, '%')\n",
    "            i+=1\n",
    "        else:\n",
    "                print(i,'. Wrong \\t(',tbl1[item[0]],' - ',tbl2[item[1]],')with matching',matching, '%')\n",
    "                i+=1\n",
    "    found =len(corresponacy1) - 1\n",
    "    print('A:Number of the discovered correspondences that are in G(withoutID)',found)\n",
    "    print('B:Number of all the discovered correspondences',len(corresponacy1))\n",
    "    print('precision(A/B):',found/len(corresponacy1)*100)\n",
    "    print('recall(A/Number of all the actual correspondences = 10):',(found/10)*100)\n",
    "    "
   ]
  },
  {
   "cell_type": "code",
   "execution_count": 20,
   "metadata": {},
   "outputs": [
    {
     "name": "stdout",
     "output_type": "stream",
     "text": [
      "[[0, 0], [2, 2], [4, 4], [6, 7], [8, 11], [10, 14], [12, 16], [1, 1], [5, 5], [9, 12], [3, 3], [11, 6], [7, 10]]\n",
      "0 . CORRECT \t( Id  -  Id ) with matching 100.0 %\n",
      "1 . CORRECT \t( YearRange  -  Year ) with matching 61.0 %\n",
      "2 . CORRECT \t( Director  -  Director ) with matching 100.0 %\n",
      "3 . CORRECT \t( Cast  -  Cast ) with matching 100.0 %\n",
      "4 . CORRECT \t( RatingValue  -  RatingValue ) with matching 100.0 %\n",
      "5 . CORRECT \t( Genre  -  Genre ) with matching 100.0 %\n",
      "6 . CORRECT \t( Description  -  Description ) with matching 100.0 %\n",
      "7 . CORRECT \t( Name  -  Name ) with matching 100.0 %\n",
      "8 . CORRECT \t( Creator  -  Creator ) with matching 100.0 %\n",
      "9 . Wrong \t( ContentRating  -  RatingCount )with matching 50.0 %\n",
      "10 . CORRECT \t( ReleaseDate  -  Release Date ) with matching 95.0 %\n",
      "11 . Wrong \t( Url  -  Actors )with matching 22.0 %\n",
      "12 . CORRECT \t( Duration  -  Duration ) with matching 100.0 %\n",
      "A:Number of the discovered correspondences that are in G(withoutID) 10\n",
      "B:Number of all the discovered correspondences 11\n",
      "precision(A/B): 90.9090909090909\n",
      "recall(A/Number of all the actual correspondences = 10): 100.0\n"
     ]
    }
   ],
   "source": [
    "def main1():\n",
    "    tentative_engagements.clear()\n",
    "    free_imdbs.clear()\n",
    "    corresponacy1.clear()\n",
    "    #add data\n",
    "    IMDB_DF_SAMPLE,tbl1,ROTTEN_TOMATOES_DF_SAMPLE,tbl2=importdatasets()\n",
    "    #creation templates\n",
    "    Pref=matchingtablebyheaders(tbl1,tbl2)\n",
    "    preferred_rankings_imdb,preferred_rankings_tomatoes=listofpreferencespertable(tbl1,tbl2,Pref)\n",
    "   # print(preferred_rankings_tomatoes)\n",
    "    init_free_imdbs(preferred_rankings_imdb)\n",
    "    stable_matching(preferred_rankings_imdb,preferred_rankings_tomatoes)\n",
    "    print(tentative_engagements)\n",
    "    outputforcolumns(tbl1,tbl2,Pref)\n",
    "    \n",
    "    \n",
    "main1()"
   ]
  },
  {
   "cell_type": "code",
   "execution_count": 21,
   "metadata": {
    "collapsed": true
   },
   "outputs": [],
   "source": [
    "def outputforvalues(tbl1,tbl2,Pref):\n",
    "    i = 0\n",
    "    for item in tentative_engagements:\n",
    "        matching=Pref[item[0],item[1]]\n",
    "        if(matching > 0.0):\n",
    "            corresponacy1.append(item)\n",
    "            print(i ,'. CORRECT \\t(',tbl1[item[0]],' - ',tbl2[item[1]],')with matching',matching, '%')\n",
    "            i+=1\n",
    "        else:\n",
    "                print(i,'. Wrong \\t(',tbl1[item[0]],' - ',tbl2[item[1]],')with matching',matching, '%')\n",
    "                i+=1\n",
    "    found =len(corresponacy1) - 1\n",
    "    print('A:Number of the discovered correspondences that are in G(withoutID)',found)\n",
    "    print('B:Number of all the discovered correspondences',len(corresponacy1))\n",
    "    print('precision(A/B):',found/len(corresponacy1)*100)\n",
    "    print('recall(A/Number of all the actual correspondences = 10):',(found/10)*100)"
   ]
  },
  {
   "cell_type": "code",
   "execution_count": 22,
   "metadata": {},
   "outputs": [
    {
     "name": "stdout",
     "output_type": "stream",
     "text": [
      "{0: array([ 2,  3,  0,  8, 11,  9,  7,  1, 10,  4,  5, 12,  6], dtype=int8), 1: array([ 1,  4,  3, 10,  0,  5,  9, 11,  7,  2, 12,  6,  8], dtype=int8), 2: array([ 2,  3,  8,  7,  0, 11,  9,  1, 12, 10,  6,  5,  4], dtype=int8), 3: array([ 3,  2,  4,  1,  5, 10,  0,  7,  9, 11,  8, 12,  6], dtype=int8), 4: array([ 4,  1, 10,  5,  0,  3,  9, 11,  7,  2, 12,  6,  8], dtype=int8), 5: array([ 4,  1, 10,  5,  3,  0,  9, 11,  7,  2,  6, 12,  8], dtype=int8), 6: array([ 4, 10,  1,  5,  3, 11,  0,  9,  7,  2,  6, 12,  8], dtype=int8), 7: array([ 5, 10, 11,  4,  1,  6, 12,  3,  9,  0,  7,  2,  8], dtype=int8), 8: array([ 4,  1,  0,  5,  3,  9, 10, 11,  7, 12,  6,  8,  2], dtype=int8), 9: array([ 9, 10,  1,  4,  5,  3,  0, 11,  7,  6, 12,  8,  2], dtype=int8), 10: array([ 7,  2,  3,  1,  4, 10,  0,  5,  9,  8, 11, 12,  6], dtype=int8), 11: array([ 8,  2,  7,  3, 11,  0,  4,  5, 12,  6,  9,  1, 10], dtype=int8), 12: array([ 2,  3,  8,  7,  0, 10, 11,  5,  9,  4, 12,  6,  1], dtype=int8), 13: array([ 3,  1,  4,  2,  0, 10,  5,  9,  7, 11,  8, 12,  6], dtype=int8), 14: array([10,  4,  1,  0,  5,  9, 11,  3,  7, 12,  6,  8,  2], dtype=int8), 15: array([ 4,  3,  1, 10,  5, 11,  0,  9,  2,  7, 12,  6,  8], dtype=int8), 16: array([11, 12, 10,  1,  5,  4,  9,  0,  3,  6,  7,  2,  8], dtype=int8)}\n",
      "[[10, 14], [2, 2], [4, 4], [12, 16], [8, 11], [11, 6], [1, 1], [5, 5], [0, 13], [3, 3], [9, 8], [7, 10], [6, 15]]\n",
      "0 . CORRECT \t( Genre  -  Genre )with matching 27.7445927671 %\n",
      "1 . CORRECT \t( YearRange  -  Year )with matching 24.17 %\n",
      "2 . CORRECT \t( Director  -  Director )with matching 22.4657037056 %\n",
      "3 . CORRECT \t( Description  -  Description )with matching 12.7794866572 %\n",
      "4 . CORRECT \t( RatingValue  -  RatingValue )with matching 14.1422222222 %\n",
      "5 . CORRECT \t( Url  -  Actors )with matching 16.0153469089 %\n",
      "6 . CORRECT \t( Name  -  Name )with matching 22.3064065502 %\n",
      "7 . CORRECT \t( Creator  -  Creator )with matching 18.8731994175 %\n",
      "8 . CORRECT \t( Id  -  ReviewCount )with matching 16.3231730691 %\n",
      "9 . CORRECT \t( ReleaseDate  -  Release Date )with matching 24.8277951535 %\n",
      "10 . CORRECT \t( ContentRating  -  Language )with matching 10.6758593791 %\n",
      "11 . CORRECT \t( Duration  -  Duration )with matching 23.3319047385 %\n",
      "12 . CORRECT \t( Cast  -  Filming Locations )with matching 4.8171329195 %\n",
      "A:Number of the discovered correspondences that are in G(withoutID) 12\n",
      "B:Number of all the discovered correspondences 13\n",
      "precision(A/B): 92.3076923076923\n",
      "recall(A/Number of all the actual correspondences = 10): 120.0\n"
     ]
    }
   ],
   "source": [
    "def main2():\n",
    "    tentative_engagements.clear()\n",
    "    free_imdbs.clear()\n",
    "    corresponacy1.clear()\n",
    "    #add data\n",
    "    IMDB_DF_SAMPLE,tbl1,ROTTEN_TOMATOES_DF_SAMPLE,tbl2=importdatasets()\n",
    "    #creation templates\n",
    "    Pref=matchingtablebyvalues(IMDB_DF_SAMPLE,ROTTEN_TOMATOES_DF_SAMPLE,tbl1,tbl2)\n",
    "    preferred_rankings_imdb,preferred_rankings_tomatoes=listofpreferencespertable(tbl1,tbl2,Pref)\n",
    "    print(preferred_rankings_tomatoes)\n",
    "    init_free_imdbs(preferred_rankings_imdb)\n",
    "    stable_matching(preferred_rankings_imdb,preferred_rankings_tomatoes)\n",
    "    print(tentative_engagements)\n",
    "    outputforvalues(tbl1,tbl2,Pref)\n",
    "\n",
    "    \n",
    "    \n",
    "main2()"
   ]
  },
  {
   "cell_type": "code",
   "execution_count": null,
   "metadata": {
    "collapsed": true
   },
   "outputs": [],
   "source": []
  },
  {
   "cell_type": "code",
   "execution_count": null,
   "metadata": {
    "collapsed": true
   },
   "outputs": [],
   "source": []
  }
 ],
 "metadata": {
  "kernelspec": {
   "display_name": "Python 3",
   "language": "python",
   "name": "python3"
  },
  "language_info": {
   "codemirror_mode": {
    "name": "ipython",
    "version": 3
   },
   "file_extension": ".py",
   "mimetype": "text/x-python",
   "name": "python",
   "nbconvert_exporter": "python",
   "pygments_lexer": "ipython3",
   "version": "3.6.1"
  }
 },
 "nbformat": 4,
 "nbformat_minor": 2
}
