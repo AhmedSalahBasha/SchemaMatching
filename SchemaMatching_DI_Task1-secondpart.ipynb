{
 "cells": [
  {
   "cell_type": "code",
   "execution_count": 19,
   "metadata": {},
   "outputs": [],
   "source": [
    "import numpy,datetime,re\n",
    "import pandas as pd\n",
    "import numpy as np\n",
    "from fuzzywuzzy import fuzz\n",
    "from difflib import SequenceMatcher"
   ]
  },
  {
   "cell_type": "code",
   "execution_count": 20,
   "metadata": {},
   "outputs": [],
   "source": [
    "#READ DATA:\n",
    "IMDB_DF = pd.read_csv(\"imdb.csv\")\n",
    "IMDB_DF_SAMPLE = IMDB_DF.sample(10).astype(str)\n",
    "imdb_header_list = list(IMDB_DF.columns.values)\n",
    "\n",
    "#imdb_header\n",
    "imdb_header_array = np.array(imdb_header_list)"
   ]
  },
  {
   "cell_type": "code",
   "execution_count": 3,
   "metadata": {
    "collapsed": true
   },
   "outputs": [],
   "source": [
    "ROTTEN_TOMATOES_DF = pd.read_csv(\"rotten_tomatoes.csv\")\n",
    "ROTTEN_TOMATOES_DF_SAMPLE = ROTTEN_TOMATOES_DF.sample(10).astype(str)\n",
    "rt_header_list = list(ROTTEN_TOMATOES_DF.columns.values)\n",
    "#rt_header\n",
    "rt_header_array = np.array(rt_header_list)"
   ]
  },
  {
   "cell_type": "code",
   "execution_count": 4,
   "metadata": {
    "collapsed": true
   },
   "outputs": [],
   "source": [
    "#creation array to add sort index of matching\n",
    "# For matching\n",
    "Pref=np.zeros((len(imdb_header_array),len(rt_header_array)))\n",
    "#for Tomatoes\n",
    "pref_tom=np.zeros((len(imdb_header_array),len(rt_header_array)),dtype=np.int8)\n",
    "ipref_tom=np.zeros((len(imdb_header_array),len(rt_header_array)),dtype=np.int8)\n",
    "#for IMdb\n",
    "ipref_imdb=np.zeros((len(rt_header_array),len(imdb_header_array)),dtype=np.int8)\n",
    "pref_imdb=np.zeros((len(rt_header_array),len(imdb_header_array)),dtype=np.int8)"
   ]
  },
  {
   "cell_type": "code",
   "execution_count": 5,
   "metadata": {
    "collapsed": true
   },
   "outputs": [],
   "source": [
    "def check_short_matching(COL1,COL2):\n",
    "    rate = 0.0\n",
    "    if str(COL1) == 'nan' or str(COL2) == 'nan' :\n",
    "        return 0\n",
    "    COL1 = str(COL1)\n",
    "    COL2 = str(COL2)\n",
    "    sw = (fuzz.SequenceMatcher(None,COL1, COL2).ratio())\n",
    "    return sw #/(max(len(COL1),len(COL2))*1.0)"
   ]
  },
  {
   "cell_type": "code",
   "execution_count": 6,
   "metadata": {
    "collapsed": true
   },
   "outputs": [],
   "source": [
    "def check_match(st1,st2):\n",
    "    str1 = np.array((st1.values).astype(str))\n",
    "    str2 = np.array((st2.values).astype(str))\n",
    "    ret = np.zeros((len(str1),len(str2)))\n",
    "    for i in range(len(str1)):\n",
    "        for j in range(len(str2)):\n",
    "            ret[i,j] = check_short_matching(str1[i],str2[j])\n",
    "    return np.average(ret)"
   ]
  },
  {
   "cell_type": "code",
   "execution_count": 7,
   "metadata": {
    "collapsed": true
   },
   "outputs": [],
   "source": [
    "index_i = 0\n",
    "for i in IMDB_DF_SAMPLE:\n",
    "    index_j = 0\n",
    "    for j in ROTTEN_TOMATOES_DF_SAMPLE:\n",
    "        table1 = IMDB_DF_SAMPLE[i]\n",
    "        table2 = ROTTEN_TOMATOES_DF_SAMPLE[j]\n",
    "        Pref[index_i,index_j] = 100 * (np.float(check_match(table1, table2)))\n",
    "        index_j+=1\n",
    "    index_i+=1"
   ]
  },
  {
   "cell_type": "code",
   "execution_count": 8,
   "metadata": {
    "collapsed": true
   },
   "outputs": [],
   "source": [
    "#assign the array indexs of Pref sorted by the actual values decending based on the lenght of rt_header_array (17)\n",
    "for i in range(len(rt_header_array)):\n",
    "    ipref_tom[:,i]=np.argsort(Pref[:,i])\n",
    "    ipref_tom[:,i]=ipref_tom[::-1,i]\n",
    "    pref_tom[:,i]=np.sort(Pref[:,i])\n",
    "    pref_tom[:,i]=pref_tom[::-1,i]\n",
    "#ipref_tom"
   ]
  },
  {
   "cell_type": "code",
   "execution_count": 9,
   "metadata": {
    "collapsed": true
   },
   "outputs": [],
   "source": [
    "#assign the array indexs of Pref sorted by the actual values decending based on the lenght of imdb_header_array (13)\n",
    "for i in range(len(imdb_header_array)):\n",
    "    #get indexs values of rows and store them in the rows as well\n",
    "    ipref_imdb[:,i] = np.argsort(Pref[i,:])\n",
    "    ipref_imdb[:,i] = ipref_imdb[::-1,i]\n",
    "    pref_imdb[:,i] = np.sort(Pref[i,:])"
   ]
  },
  {
   "cell_type": "code",
   "execution_count": 10,
   "metadata": {
    "collapsed": true
   },
   "outputs": [],
   "source": [
    "#create list of preferred_rankings_tomatoes with header\n",
    "preferred_rankings_tomatoes = {}\n",
    "for i in range(len(rt_header_array)):\n",
    "    preferred_rankings_tomatoes[i] = ipref_tom[:,i]\n"
   ]
  },
  {
   "cell_type": "code",
   "execution_count": 11,
   "metadata": {
    "collapsed": true
   },
   "outputs": [],
   "source": [
    "#create list of preferred_rankings_Imdb with header\n",
    "preferred_rankings_imdb = {}\n",
    "for i in range(len(imdb_header_array)):\n",
    "    preferred_rankings_imdb[i] = ipref_imdb[:,i]"
   ]
  },
  {
   "cell_type": "code",
   "execution_count": 12,
   "metadata": {
    "collapsed": true
   },
   "outputs": [],
   "source": [
    "tentative_engagements = []\n",
    "free_imdbs = []\n",
    "corresponacy1 = []"
   ]
  },
  {
   "cell_type": "code",
   "execution_count": 13,
   "metadata": {
    "collapsed": true
   },
   "outputs": [],
   "source": [
    "#Imdb which still need to propose and get accepted successfully\n",
    "#Keep track of the headers that \"may\" end up together\n",
    "def init_free_imdbs():\n",
    "    #corresponacy1 = list.clear()\n",
    "    #'''Initialize the arrays of tomates and imdbs to represent that they're all initially free and not engaged'''\n",
    "    for imdb in preferred_rankings_imdb.keys():\n",
    "        free_imdbs.append(imdb)"
   ]
  },
  {
   "cell_type": "code",
   "execution_count": 14,
   "metadata": {
    "collapsed": true
   },
   "outputs": [],
   "source": [
    "def begin_matching(imdb):\n",
    "    #Find the first free Tomaten available to a Imdb at any given time\n",
    "    for tomate in preferred_rankings_imdb[imdb]:\n",
    "        #Boolean for whether tomate is taken or not\n",
    "        taken_match = [couple for couple in tentative_engagements if tomate == couple [:][1]]\n",
    "        if (len(taken_match) == 0):\n",
    "            #tentatively engage the man and woman\n",
    "            tentative_engagements.append([imdb, tomate])\n",
    "            free_imdbs.remove(imdb)\n",
    "            break\n",
    "        elif (len(taken_match) > 0):\n",
    "            current_imdb = list(preferred_rankings_tomatoes[tomate].tolist()).index(taken_match[0][0])\n",
    "            potential_imdb = list(preferred_rankings_tomatoes[tomate].tolist()).index(imdb)\n",
    "            if (current_imdb < potential_imdb):\n",
    "                ii=[]\n",
    "            else: \n",
    "                #The new imdb is engaged\n",
    "                free_imdbs.remove(imdb)\n",
    "                #The old imdb is now single\n",
    "                free_imdbs.append(taken_match[0][0])\n",
    "                #Update the fiance of the tomaten (tentatively)\n",
    "                taken_match[0][0] = imdb\n",
    "                break"
   ]
  },
  {
   "cell_type": "code",
   "execution_count": 15,
   "metadata": {
    "collapsed": true
   },
   "outputs": [],
   "source": [
    "def stable_matching():\n",
    "    '''Matching algorithm until stable match terminates'''\n",
    "    while (len(free_imdbs) > 0):\n",
    "        for imdb in free_imdbs:\n",
    "            begin_matching(imdb)"
   ]
  },
  {
   "cell_type": "code",
   "execution_count": 16,
   "metadata": {
    "collapsed": true
   },
   "outputs": [],
   "source": [
    "def output():\n",
    "    i = 0\n",
    "    for item in tentative_engagements:\n",
    "        matching=Pref[item[0],item[1]]\n",
    "        if(matching > 10.0):\n",
    "            corresponacy1.append(item)\n",
    "            print(i ,'. CORRECT \\t(',imdb_header_array[item[0]],rt_header_array[item[1]],')with % of matching',matching)\n",
    "            i+=1\n",
    "        else:\n",
    "            print(i,'. Wrong \\t',imdb_header_array[item[0]],rt_header_array[item[1]],'with % of matching',matching)\n",
    "            i+=1\n",
    "    found =len(corresponacy1) - 1\n",
    "    print('A:Number of the discovered correspondences that are in G(withoutID)',found)\n",
    "    print('B:Number of all the discovered correspondences',len(corresponacy1))\n",
    "    print('precision(A/B):',found/len(corresponacy1)*100)\n",
    "    print('recall(A/Number of all the actual correspondences = 10):',(found/10)*100)"
   ]
  },
  {
   "cell_type": "code",
   "execution_count": 17,
   "metadata": {},
   "outputs": [
    {
     "name": "stdout",
     "output_type": "stream",
     "text": [
      "[[10, 14], [3, 3], [4, 4], [11, 16], [8, 11], [9, 6], [1, 1], [5, 5], [0, 13], [2, 2], [7, 10], [12, 15], [6, 7]]\n",
      "0 . CORRECT \t( Genre Genre )with % of matching 27.3134589399\n",
      "1 . CORRECT \t( ReleaseDate Release Date )with % of matching 25.1534010645\n",
      "2 . CORRECT \t( Director Director )with % of matching 26.3681284492\n",
      "3 . CORRECT \t( Url Description )with % of matching 15.0358731342\n",
      "4 . CORRECT \t( RatingValue RatingValue )with % of matching 11.8194444444\n",
      "5 . CORRECT \t( ContentRating Actors )with % of matching 12.3237593461\n",
      "6 . CORRECT \t( Name Name )with % of matching 22.4894525489\n",
      "7 . CORRECT \t( Creator Creator )with % of matching 18.8501780718\n",
      "8 . CORRECT \t( Id ReviewCount )with % of matching 18.0087365647\n",
      "9 . CORRECT \t( YearRange Year )with % of matching 23.5555555556\n",
      "10 . CORRECT \t( Duration Duration )with % of matching 14.2485380117\n",
      "11 . Wrong \t Description Filming Locations with % of matching 4.92916392912\n",
      "12 . Wrong \t Cast Cast with % of matching 2.18349511299\n",
      "A:Number of the discovered correspondences that are in G(withoutID) 10\n",
      "B:Number of all the discovered correspondences 11\n",
      "precision(A/B): 90.9090909090909\n",
      "recall(A/Number of all the actual correspondences = 10): 100.0\n"
     ]
    }
   ],
   "source": [
    "def main():\n",
    "    tentative_engagements.clear()\n",
    "    free_imdbs.clear()\n",
    "    corresponacy1.clear()\n",
    "    init_free_imdbs()\n",
    "\n",
    "    #print(free_imdbs)\n",
    "    stable_matching()\n",
    "    print(tentative_engagements)\n",
    "    output()\n",
    "main()"
   ]
  },
  {
   "cell_type": "code",
   "execution_count": null,
   "metadata": {
    "collapsed": true
   },
   "outputs": [],
   "source": []
  }
 ],
 "metadata": {
  "kernelspec": {
   "display_name": "Python 3",
   "language": "python",
   "name": "python3"
  },
  "language_info": {
   "codemirror_mode": {
    "name": "ipython",
    "version": 3
   },
   "file_extension": ".py",
   "mimetype": "text/x-python",
   "name": "python",
   "nbconvert_exporter": "python",
   "pygments_lexer": "ipython3",
   "version": "3.6.1"
  }
 },
 "nbformat": 4,
 "nbformat_minor": 2
}
