{
 "cells": [
  {
   "cell_type": "code",
   "execution_count": 2,
   "metadata": {
    "collapsed": true
   },
   "outputs": [],
   "source": [
    "from difflib import SequenceMatcher\n",
    "import pandas as pd\n",
    "import numpy as np"
   ]
  },
  {
   "cell_type": "code",
   "execution_count": 20,
   "metadata": {},
   "outputs": [
    {
     "data": {
      "text/plain": [
       "['Id',\n",
       " 'Name',\n",
       " 'Year',\n",
       " 'Release Date',\n",
       " 'Director',\n",
       " 'Creator',\n",
       " 'Actors',\n",
       " 'Cast',\n",
       " 'Language',\n",
       " 'Country',\n",
       " 'Duration',\n",
       " 'RatingValue',\n",
       " 'RatingCount',\n",
       " 'ReviewCount',\n",
       " 'Genre',\n",
       " 'Filming Locations',\n",
       " 'Description']"
      ]
     },
     "execution_count": 20,
     "metadata": {},
     "output_type": "execute_result"
    }
   ],
   "source": [
    "#READ DATA:\n",
    "IMDB_DF = pd.read_csv(\"imdb.csv\")\n",
    "imdb_header = list(IMDB_DF.columns.values)\n",
    "\n",
    "#imdb_header\n",
    "tbl1 = np.array(imdb_header)\n",
    "\n",
    "ROTTEN_TOMATOES_DF = pd.read_csv(\"rotten_tomatoes.csv\")\n",
    "rt_header = list(ROTTEN_TOMATOES_DF.columns.values)\n",
    "#rt_header\n",
    "tbl2 = np.array(rt_header)"
   ]
  },
  {
   "cell_type": "code",
   "execution_count": 60,
   "metadata": {},
   "outputs": [],
   "source": [
    "Pref=np.zeros((len(tbl1),len(tbl2)))\n",
    "pref_tbl1=np.zeros((len(tbl1),len(tbl2)),dtype=np.int8)\n",
    "ipref_tbl1=np.zeros((len(tbl1),len(tbl2)),dtype=np.int8)\n",
    "pref_tbl=np.zeros((len(tbl1),len(tbl2)),dtype=np.int8)\n",
    "pref_tbl2=np.zeros((len(tbl2),len(tbl1)),dtype=np.int8)"
   ]
  },
  {
   "cell_type": "code",
   "execution_count": 74,
   "metadata": {},
   "outputs": [],
   "source": [
    "#assign the matching ratio between tbl1 and tbl2\n",
    "for i in range(len(tbl1)):\n",
    "    for j in range(len(tbl2)):\n",
    "        Pref[i,j] = np.int(100*SequenceMatcher(None,tbl1[i],tbl2[j]).ratio())"
   ]
  },
  {
   "cell_type": "code",
   "execution_count": 78,
   "metadata": {},
   "outputs": [],
   "source": [
    "#assign the array indexs of Pref sorted by the actual values decending based on the lenght of tbl1 (13)\n",
    "for i in range(len(tbl1)):\n",
    "    #get indexs values of rows and store them in the rows as well\n",
    "    ipref_tbl1[i,:] = np.argsort(Pref[i,:])\n",
    "    ipref_tbl1[i,:] = ipref_tbl1[i,::-1]\n",
    "    pref_tbl[i,:] = np.sort(Pref[i,:])\n",
    "    pref_tbl[i,:] = pref_tbl[i,::-1]"
   ]
  },
  {
   "cell_type": "code",
   "execution_count": 89,
   "metadata": {},
   "outputs": [],
   "source": [
    "#loop through the pref_tbl and check if the value of the matching ratio greater than certain threshold \n",
    "#then get the index of these cells, otherwise set value to -1\n",
    "threshold = 30\n",
    "for i in range(len(tbl1)):\n",
    "    for j in range(len(tbl2)):\n",
    "        if pref_tbl[i,j] >= threshold:\n",
    "            pref_tbl1[i,j] = ipref_tbl1[i,j]\n",
    "        else: pref_tbl1[i,j] = -1"
   ]
  },
  {
   "cell_type": "code",
   "execution_count": 91,
   "metadata": {},
   "outputs": [],
   "source": [
    "new_pref_tbl1=[]\n",
    "\n",
    "for i in range(len(tbl1)):\n",
    "    new_pref_tbl1.append(list(filter(lambda c: c != -1 ,pref_tbl1[i,:] )))"
   ]
  },
  {
   "cell_type": "code",
   "execution_count": 117,
   "metadata": {},
   "outputs": [
    {
     "data": {
      "text/plain": [
       "{'corespondance': array([ 3,  2,  6,  8,  5,  7,  1, 10,  4, 12,  9, 11,  0], dtype=int8),\n",
       " 'index pref': 0,\n",
       " 'name': 'Release Date',\n",
       " 'preferences': [],\n",
       " 'state': False}"
      ]
     },
     "execution_count": 117,
     "metadata": {},
     "output_type": "execute_result"
    }
   ],
   "source": [
    "content = {'name':'','index pref':0 , 'corespondance':[], 'preferences':[],'state':False,}\n",
    "Rotten_tomatoes=[]\n",
    "\n",
    "#assign the array indexs of Pref sorted by the actual values decending based on the lenght of tbl2 (15)\n",
    "for i in range(len(tbl2)):\n",
    "    #get indexs values of columns from Pref and store them in the rows\n",
    "    pref_tbl2[i,:]=np.argsort(Pref[:,i])\n",
    "    pref_tbl2[i,:]=pref_tbl2[i,::-1]\n",
    "    Rotten_tomatoes.append({'name':tbl2[i],'index pref':0 , 'corespondance':pref_tbl2[i,:], 'preferences':[],'state':False,})\n",
    "Rotten_tomatoes[3]"
   ]
  },
  {
   "cell_type": "code",
   "execution_count": 115,
   "metadata": {},
   "outputs": [
    {
     "data": {
      "text/plain": [
       "{'corespondance': [],\n",
       " 'index pref': 0,\n",
       " 'name': 'Name',\n",
       " 'preferences': [1, 8],\n",
       " 'state': False}"
      ]
     },
     "execution_count": 115,
     "metadata": {},
     "output_type": "execute_result"
    }
   ],
   "source": [
    "Imdb = []\n",
    "\n",
    "for i in range(len(tbl1)):\n",
    "    Imdb.append({'name':tbl1[i],'index pref':0 , 'corespondance':[], 'preferences':new_pref_tbl1[i],'state':False,})\n",
    "Imdb[3]"
   ]
  },
  {
   "cell_type": "code",
   "execution_count": 122,
   "metadata": {
    "collapsed": true
   },
   "outputs": [],
   "source": [
    "def marriage_algo():\n",
    "    imdb_no = 0\n",
    "    while imdb_no < len(tbl1):\n",
    "        if len(Imdb[imdb_no]['preferences']) > 0:\n",
    "            if Imdb[imdb_no]['state'] == False:\n",
    "                pref_index = Imdb[imdb_no]['index pref']\n",
    "                roto_no = Imdb[imdb_no]['preferences'][pref_index]\n",
    "                imdb_no = match_pref(imdb_no,roto_no)\n",
    "            else: imdb_no += 1\n",
    "        else: imdb_no += 1\n",
    "    return Imdb,Rotten_tomatoes"
   ]
  },
  {
   "cell_type": "code",
   "execution_count": 123,
   "metadata": {
    "collapsed": true
   },
   "outputs": [],
   "source": [
    "def match_pref(Ino,Rno):\n",
    "    if Rotten_tomatoes[Rno]['state'] == False :\n",
    "        Rotten_tomatoes[Rno]['state'] = True\n",
    "        Imdb[Ino]['state'] = True\n",
    "        Rotten_tomatoes[Rno]['index pref'] = find_index(Rotten_tomatoes,Rno , Ino)\n",
    "        return Ino + 1\n",
    "    else:\n",
    "        sw = check_Rotten_pref(Ino,Rno)\n",
    "        if Ino == 11:\n",
    "            print(sw)\n",
    "        if sw == -1 :\n",
    "            if Imdb[Ino]['index pref'] < len(Imdb[Ino]['preferences']):#-----------------------------\n",
    "                Imdb[Ino]['index pref'] += 1\n",
    "                if Ino == 11:\n",
    "                    print(Ino , '---------', Imdb[Ino]['index pref'])\n",
    "                return Ino\n",
    "            else:\n",
    "                return Ino + 1\n",
    "        else:\n",
    "            Rotten_tomatoes[Rno]['state'] = True\n",
    "            Imdb[Ino]['state'] = True\n",
    "            Rotten_tomatoes[Rno]['index pref'] = find_index(Rotten_tomatoes,Rno , Ino)\n",
    "            Imdb[sw]['state'] = False\n",
    "            if Imdb[sw]['index pref'] < len(Imdb[Ino]['preferences']): #-------------------------\n",
    "                Imdb[sw]['index pref'] += 1\n",
    "                return sw\n",
    "            else:\n",
    "                return Ino+1"
   ]
  },
  {
   "cell_type": "code",
   "execution_count": 124,
   "metadata": {
    "collapsed": true
   },
   "outputs": [],
   "source": [
    "def find_index(table , row , value):\n",
    "    for i in range(len(table[row]['preferences'])) :\n",
    "        if table[row]['preferences'][i] == value:\n",
    "            return i"
   ]
  },
  {
   "cell_type": "code",
   "execution_count": 125,
   "metadata": {
    "collapsed": true
   },
   "outputs": [],
   "source": [
    "def check_Rotten_pref(Ino,Rno):\n",
    "    sw = find_index(Rotten_tomatoes,Rno,Ino)\n",
    "    if Ino == 11:\n",
    "        print(sw,Rotten_tomatoes[Rno]['index pref'])\n",
    "    if sw < Rotten_tomatoes[Rno]['index pref']:\n",
    "        return Rotten_tomatoes[Rno]['preferences'][Rotten_tomatoes[Rno]['index pref']]\n",
    "    else:\n",
    "        return -1"
   ]
  },
  {
   "cell_type": "code",
   "execution_count": 129,
   "metadata": {},
   "outputs": [
    {
     "data": {
      "text/plain": [
       "[{'corespondance': array([ 0, 12, 11, 10,  9,  8,  7,  6,  5,  4,  3,  2,  1], dtype=int8),\n",
       "  'index pref': None,\n",
       "  'name': 'Id',\n",
       "  'preferences': [],\n",
       "  'state': True},\n",
       " {'corespondance': array([ 1,  8,  6, 10,  5,  7,  4,  2, 12,  3,  9, 11,  0], dtype=int8),\n",
       "  'index pref': None,\n",
       "  'name': 'Name',\n",
       "  'preferences': [],\n",
       "  'state': True},\n",
       " {'corespondance': array([ 2,  5, 10, 11, 12,  3,  6,  1,  9,  7,  4,  8,  0], dtype=int8),\n",
       "  'index pref': None,\n",
       "  'name': 'Year',\n",
       "  'preferences': [],\n",
       "  'state': True},\n",
       " {'corespondance': array([ 3,  2,  6,  8,  5,  7,  1, 10,  4, 12,  9, 11,  0], dtype=int8),\n",
       "  'index pref': None,\n",
       "  'name': 'Release Date',\n",
       "  'preferences': [],\n",
       "  'state': True},\n",
       " {'corespondance': array([ 4,  5,  7, 12, 10,  2,  3, 11,  6,  1,  8,  9,  0], dtype=int8),\n",
       "  'index pref': None,\n",
       "  'name': 'Director',\n",
       "  'preferences': [],\n",
       "  'state': True},\n",
       " {'corespondance': array([ 5,  4,  6,  7,  9,  2, 10,  3, 12,  8, 11,  1,  0], dtype=int8),\n",
       "  'index pref': None,\n",
       "  'name': 'Creator',\n",
       "  'preferences': [],\n",
       "  'state': True},\n",
       " {'corespondance': array([ 4,  5, 11,  6, 10,  7,  2, 12,  8,  3,  9,  1,  0], dtype=int8),\n",
       "  'index pref': 0,\n",
       "  'name': 'Actors',\n",
       "  'preferences': [],\n",
       "  'state': False},\n",
       " {'corespondance': array([ 6,  5,  3,  7, 12,  8,  1,  9,  4,  2, 11, 10,  0], dtype=int8),\n",
       "  'index pref': None,\n",
       "  'name': 'Cast',\n",
       "  'preferences': [],\n",
       "  'state': True},\n",
       " {'corespondance': array([ 8,  2,  1,  9,  7,  6, 10,  5,  4, 12,  3, 11,  0], dtype=int8),\n",
       "  'index pref': 0,\n",
       "  'name': 'Language',\n",
       "  'preferences': [],\n",
       "  'state': False},\n",
       " {'corespondance': array([ 9,  6, 10,  5,  7, 11,  4,  2, 12,  8,  3,  1,  0], dtype=int8),\n",
       "  'index pref': 0,\n",
       "  'name': 'Country',\n",
       "  'preferences': [],\n",
       "  'state': False},\n",
       " {'corespondance': array([ 7, 12,  5,  8,  9,  4,  6,  3,  2, 11,  1, 10,  0], dtype=int8),\n",
       "  'index pref': None,\n",
       "  'name': 'Duration',\n",
       "  'preferences': [],\n",
       "  'state': True},\n",
       " {'corespondance': array([ 8,  9,  2,  7,  3, 12,  6,  1,  5,  4, 11, 10,  0], dtype=int8),\n",
       "  'index pref': None,\n",
       "  'name': 'RatingValue',\n",
       "  'preferences': [],\n",
       "  'state': True},\n",
       " {'corespondance': array([ 8,  7,  9,  2, 12,  5,  3,  6,  4,  1, 10, 11,  0], dtype=int8),\n",
       "  'index pref': None,\n",
       "  'name': 'RatingCount',\n",
       "  'preferences': [],\n",
       "  'state': True},\n",
       " {'corespondance': array([ 3,  9,  4, 12,  6, 10,  5,  7,  2,  8,  1, 11,  0], dtype=int8),\n",
       "  'index pref': 0,\n",
       "  'name': 'ReviewCount',\n",
       "  'preferences': [],\n",
       "  'state': False},\n",
       " {'corespondance': array([10,  2,  5,  4, 12, 11,  8,  3,  9,  1,  7,  6,  0], dtype=int8),\n",
       "  'index pref': None,\n",
       "  'name': 'Genre',\n",
       "  'preferences': [],\n",
       "  'state': True},\n",
       " {'corespondance': array([ 7, 12,  9,  4,  8,  5,  3,  6,  2, 11, 10,  1,  0], dtype=int8),\n",
       "  'index pref': 0,\n",
       "  'name': 'Filming Locations',\n",
       "  'preferences': [],\n",
       "  'state': False},\n",
       " {'corespondance': array([12,  7,  4,  5,  2,  8,  3,  6, 10,  9, 11,  1,  0], dtype=int8),\n",
       "  'index pref': None,\n",
       "  'name': 'Description',\n",
       "  'preferences': [],\n",
       "  'state': True}]"
      ]
     },
     "execution_count": 129,
     "metadata": {},
     "output_type": "execute_result"
    }
   ],
   "source": [
    "Imdb,Rotten_tomatoes = marriage_algo()"
   ]
  },
  {
   "cell_type": "code",
   "execution_count": 130,
   "metadata": {
    "collapsed": true
   },
   "outputs": [],
   "source": [
    "corresponacy = []\n",
    "for i in range(len(Imdb)):\n",
    "    if Imdb[i]['state'] == True:\n",
    "        p = int(Imdb[i]['index pref'])\n",
    "        j = Imdb[i]['preferences'][p]\n",
    "        corresponacy.append(tuple([Imdb[i]['name'],Rotten_tomatoes[j]['name']]))"
   ]
  },
  {
   "cell_type": "code",
   "execution_count": 131,
   "metadata": {},
   "outputs": [
    {
     "name": "stdout",
     "output_type": "stream",
     "text": [
      "corresponacies that our algorithm has found are:\n",
      "0 . CORRECT \t ('Id', 'Id')\n",
      "1 . CORRECT \t ('Name', 'Name')\n",
      "2 . CORRECT \t ('YearRange', 'Year')\n",
      "3 . CORRECT \t ('ReleaseDate', 'Release Date')\n",
      "4 . CORRECT \t ('Director', 'Director')\n",
      "5 . CORRECT \t ('Creator', 'Creator')\n",
      "6 . CORRECT \t ('Cast', 'Cast')\n",
      "7 . CORRECT \t ('Duration', 'Duration')\n",
      "8 . CORRECT \t ('RatingValue', 'RatingValue')\n",
      "9 . WRONG \t ('ContentRating', 'RatingCount')\n",
      "10 . CORRECT \t ('Genre', 'Genre')\n",
      "11 . CORRECT \t ('Description', 'Description')\n",
      "\n",
      "number of corresponacies that it found:  11\n",
      "number of true corresponacies that it found: 10\n",
      "precision : 0.9090909090909091\n",
      "recall:\t 1.0\n"
     ]
    }
   ],
   "source": [
    "found = len(corresponacy)-1\n",
    "print('corresponacies that our algorithm has found are:')\n",
    "for i in range(len(corresponacy)):\n",
    "    if i == 9:\n",
    "        print(i,'. WRONG \\t',corresponacy[i])\n",
    "    else:\n",
    "        print(i,'. CORRECT \\t',corresponacy[i])\n",
    "        \n",
    "print('\\nnumber of corresponacies that it found: ' , found)\n",
    "print('number of true corresponacies that it found:' , found-1)\n",
    "print('precision :',(found-1.0)/found)\n",
    "print('recall:\\t' ,(found-1)/10.0)"
   ]
  },
  {
   "cell_type": "code",
   "execution_count": 85,
   "metadata": {},
   "outputs": [
    {
     "name": "stderr",
     "output_type": "stream",
     "text": [
      "C:\\Users\\ahmed\\Anaconda3\\lib\\site-packages\\fuzzywuzzy\\fuzz.py:35: UserWarning: Using slow pure-python SequenceMatcher. Install python-Levenshtein to remove this warning\n",
      "  warnings.warn('Using slow pure-python SequenceMatcher. Install python-Levenshtein to remove this warning')\n"
     ]
    }
   ],
   "source": [
    "import numpy,datetime,re\n",
    "from fuzzywuzzy import fuzz\n",
    "from fuzzywuzzy import process\n"
   ]
  },
  {
   "cell_type": "code",
   "execution_count": 86,
   "metadata": {
    "collapsed": true
   },
   "outputs": [],
   "source": [
    "groups=['Short string','Long string','URL']"
   ]
  },
  {
   "cell_type": "code",
   "execution_count": 87,
   "metadata": {
    "collapsed": true
   },
   "outputs": [],
   "source": [
    "Imdb = IMDB_DF\n",
    "Rotten_tomatoes = ROTTEN_TOMATOES_DF\n",
    "\n",
    "Imdb = Imdb.sample(500).astype(str)\n",
    "Rotten_tomatoes = Rotten_tomatoes.sample(500).astype(str)\n",
    "\n",
    "imdb = Imdb.columns.values\n",
    "rotten_tomatoes = Rotten_tomatoes.columns.values"
   ]
  },
  {
   "cell_type": "code",
   "execution_count": 88,
   "metadata": {
    "collapsed": true
   },
   "outputs": [],
   "source": [
    "def string_length(COL):\n",
    "    short_s = 60\n",
    "    summ = 0\n",
    "    for i in COL:\n",
    "        summ += len(str(i))\n",
    "    ret = summ / len(COL)\n",
    "    if ret < short_s:\n",
    "        return True\n",
    "    else :\n",
    "        return False\n",
    "\n",
    "def is_url(COL):\n",
    "    no_url = 0.0\n",
    "    search = \"http://\"\n",
    "    match_rate = 0.0\n",
    "    for i in COL:\n",
    "        if re.search(search, str(i)):\n",
    "            no_url += 1\n",
    "    match_rate = no_url / len( COL) * 100\n",
    "    if match_rate > 0.6:\n",
    "        return True\n",
    "    else:\n",
    "        return False"
   ]
  },
  {
   "cell_type": "code",
   "execution_count": 89,
   "metadata": {
    "collapsed": true
   },
   "outputs": [],
   "source": [
    "def categorize_cols(cols_list,table):\n",
    "    tablegroups={'Short string':[],'Long string':[],'URL':[]}\n",
    "    for i in cols_list:\n",
    "        tablegroups[find_group(table[i])].append(i)\n",
    "    return tablegroups\n",
    "\n",
    "def find_group(COL):\n",
    "    if is_url(COL):\n",
    "        return 'URL'\n",
    "    elif string_length(COL):\n",
    "        return 'Short string'\n",
    "    else:\n",
    "        return 'Long string'"
   ]
  },
  {
   "cell_type": "code",
   "execution_count": 90,
   "metadata": {
    "collapsed": true
   },
   "outputs": [],
   "source": [
    "Imdb_groups = categorize_cols(imdb,Imdb.dropna())\n",
    "Rotten_tomatoes_groups = categorize_cols(rotten_tomatoes,Rotten_tomatoes.dropna())\n",
    "IMgroup1 = Imdb[Imdb_groups['URL']].dropna()\n",
    "IMgroup2 = Imdb[Imdb_groups['Short string']].dropna()\n",
    "IMgroup3 = Imdb[Imdb_groups['Long string']].dropna()\n",
    "RTgroup1 = Rotten_tomatoes[Rotten_tomatoes_groups['URL']].dropna()\n",
    "RTgroup2 = Rotten_tomatoes[Rotten_tomatoes_groups['Short string']].dropna()\n",
    "RTgroup3 = Rotten_tomatoes[Rotten_tomatoes_groups['Long string']].dropna()"
   ]
  },
  {
   "cell_type": "code",
   "execution_count": 94,
   "metadata": {
    "collapsed": true
   },
   "outputs": [],
   "source": [
    "def check_short_matching(COL1,COL2):\n",
    "    rate = 0.0\n",
    "    if str(COL1) == 'nan' or str(COL2) == 'nan' :\n",
    "        return 0\n",
    "    COL1 = str(COL1)\n",
    "    COL2 = str(COL2)\n",
    "    sw = (fuzz.SequenceMatcher(None,COL1, COL2).ratio())\n",
    "    return sw #/(max(len(COL1),len(COL2))*1.0)"
   ]
  },
  {
   "cell_type": "code",
   "execution_count": 95,
   "metadata": {
    "collapsed": true
   },
   "outputs": [],
   "source": [
    "def check_match(st1,st2):\n",
    "    str1 = np.array((st1.values).astype(str))\n",
    "    str2 = np.array((st2.values).astype(str))\n",
    "    ret = np.zeros((len(str1),len(str2)))\n",
    "    for i in range(len(str1)):\n",
    "        for j in range(len(str2)):\n",
    "            ret[i,j] = check_short_matching(str1[i],str2[j])\n",
    "    return numpy.average(ret)"
   ]
  },
  {
   "cell_type": "code",
   "execution_count": 96,
   "metadata": {
    "collapsed": true
   },
   "outputs": [],
   "source": [
    "def group1_sim(IMgroup1,RTgroup1):\n",
    "    return []"
   ]
  },
  {
   "cell_type": "code",
   "execution_count": 98,
   "metadata": {
    "collapsed": true
   },
   "outputs": [],
   "source": [
    "def group2_sim(IMgroup2,RTgroup2):\n",
    "    count = []\n",
    "    dd = []\n",
    "    ret = []\n",
    "    v1 = []\n",
    "    v2 = []\n",
    "    for i in IMgroup2:\n",
    "        dd = []\n",
    "        for j in RTgroup2:\n",
    "            g1 = IMgroup2[i]\n",
    "            g2 = RTgroup2[j]\n",
    "            v1 = (g1.values).astype(str)\n",
    "            v2 = (g2.values).astype(str)\n",
    "            dd.append([ 10000* (check_match(g1, g2)),i,j])\n",
    "        ret += dd\n",
    "        print(i,j)\n",
    "    print('done')\n",
    "    return ret"
   ]
  },
  {
   "cell_type": "code",
   "execution_count": 99,
   "metadata": {
    "collapsed": true
   },
   "outputs": [],
   "source": [
    "def group3_sim(IMgroup3,RTgroup3):\n",
    "    count = []\n",
    "    dd = []\n",
    "    ret = []\n",
    "    v1 = []\n",
    "    v2 = []\n",
    "    for i in IMgroup3:\n",
    "        dd = []\n",
    "        for j in RTgroup3:\n",
    "            g1 = IMgroup3[i]\n",
    "            g2 = RTgroup3[j]\n",
    "            v1 = (g1.values).astype(str)\n",
    "            v2 = (g2.values).astype(str)\n",
    "            dd.append([ (10000* check_match(g1, g2)),i,j])\n",
    "        ret += dd\n",
    "        print(i,j)\n",
    "    print('done')\n",
    "    return ret"
   ]
  },
  {
   "cell_type": "code",
   "execution_count": 100,
   "metadata": {},
   "outputs": [
    {
     "name": "stdout",
     "output_type": "stream",
     "text": [
      "Id Genre\n",
      "Name Genre\n",
      "YearRange Genre\n"
     ]
    },
    {
     "ename": "KeyboardInterrupt",
     "evalue": "",
     "output_type": "error",
     "traceback": [
      "\u001b[1;31m---------------------------------------------------------------------------\u001b[0m",
      "\u001b[1;31mKeyboardInterrupt\u001b[0m                         Traceback (most recent call last)",
      "\u001b[1;32m<ipython-input-100-ca6cd25a5e8f>\u001b[0m in \u001b[0;36m<module>\u001b[1;34m()\u001b[0m\n\u001b[0;32m      1\u001b[0m \u001b[0mgroup1_redic\u001b[0m\u001b[1;33m=\u001b[0m\u001b[0mgroup1_sim\u001b[0m\u001b[1;33m(\u001b[0m\u001b[0mIMgroup1\u001b[0m\u001b[1;33m,\u001b[0m\u001b[0mRTgroup1\u001b[0m\u001b[1;33m)\u001b[0m\u001b[1;33m\u001b[0m\u001b[0m\n\u001b[1;32m----> 2\u001b[1;33m \u001b[0mgroup2_redic\u001b[0m\u001b[1;33m=\u001b[0m\u001b[0mgroup2_sim\u001b[0m\u001b[1;33m(\u001b[0m\u001b[0mIMgroup2\u001b[0m\u001b[1;33m,\u001b[0m\u001b[0mRTgroup2\u001b[0m\u001b[1;33m)\u001b[0m\u001b[1;33m\u001b[0m\u001b[0m\n\u001b[0m\u001b[0;32m      3\u001b[0m \u001b[0mgroup3_redic\u001b[0m\u001b[1;33m=\u001b[0m\u001b[0mgroup3_sim\u001b[0m\u001b[1;33m(\u001b[0m\u001b[0mIMgroup3\u001b[0m\u001b[1;33m,\u001b[0m\u001b[0mRTgroup3\u001b[0m\u001b[1;33m)\u001b[0m\u001b[1;33m\u001b[0m\u001b[0m\n",
      "\u001b[1;32m<ipython-input-98-a741ce1de167>\u001b[0m in \u001b[0;36mgroup2_sim\u001b[1;34m(IMgroup2, RTgroup2)\u001b[0m\n\u001b[0;32m     12\u001b[0m             \u001b[0mv1\u001b[0m \u001b[1;33m=\u001b[0m \u001b[1;33m(\u001b[0m\u001b[0mg1\u001b[0m\u001b[1;33m.\u001b[0m\u001b[0mvalues\u001b[0m\u001b[1;33m)\u001b[0m\u001b[1;33m.\u001b[0m\u001b[0mastype\u001b[0m\u001b[1;33m(\u001b[0m\u001b[0mstr\u001b[0m\u001b[1;33m)\u001b[0m\u001b[1;33m\u001b[0m\u001b[0m\n\u001b[0;32m     13\u001b[0m             \u001b[0mv2\u001b[0m \u001b[1;33m=\u001b[0m \u001b[1;33m(\u001b[0m\u001b[0mg2\u001b[0m\u001b[1;33m.\u001b[0m\u001b[0mvalues\u001b[0m\u001b[1;33m)\u001b[0m\u001b[1;33m.\u001b[0m\u001b[0mastype\u001b[0m\u001b[1;33m(\u001b[0m\u001b[0mstr\u001b[0m\u001b[1;33m)\u001b[0m\u001b[1;33m\u001b[0m\u001b[0m\n\u001b[1;32m---> 14\u001b[1;33m             \u001b[0mdd\u001b[0m\u001b[1;33m.\u001b[0m\u001b[0mappend\u001b[0m\u001b[1;33m(\u001b[0m\u001b[1;33m[\u001b[0m \u001b[1;36m10000\u001b[0m\u001b[1;33m*\u001b[0m \u001b[1;33m(\u001b[0m\u001b[0mcheck_match\u001b[0m\u001b[1;33m(\u001b[0m\u001b[0mg1\u001b[0m\u001b[1;33m,\u001b[0m \u001b[0mg2\u001b[0m\u001b[1;33m)\u001b[0m\u001b[1;33m)\u001b[0m\u001b[1;33m,\u001b[0m\u001b[0mi\u001b[0m\u001b[1;33m,\u001b[0m\u001b[0mj\u001b[0m\u001b[1;33m]\u001b[0m\u001b[1;33m)\u001b[0m\u001b[1;33m\u001b[0m\u001b[0m\n\u001b[0m\u001b[0;32m     15\u001b[0m         \u001b[0mret\u001b[0m \u001b[1;33m+=\u001b[0m \u001b[0mdd\u001b[0m\u001b[1;33m\u001b[0m\u001b[0m\n\u001b[0;32m     16\u001b[0m         \u001b[0mprint\u001b[0m\u001b[1;33m(\u001b[0m\u001b[0mi\u001b[0m\u001b[1;33m,\u001b[0m\u001b[0mj\u001b[0m\u001b[1;33m)\u001b[0m\u001b[1;33m\u001b[0m\u001b[0m\n",
      "\u001b[1;32m<ipython-input-95-00ba07f26ad6>\u001b[0m in \u001b[0;36mcheck_match\u001b[1;34m(st1, st2)\u001b[0m\n\u001b[0;32m      5\u001b[0m     \u001b[1;32mfor\u001b[0m \u001b[0mi\u001b[0m \u001b[1;32min\u001b[0m \u001b[0mrange\u001b[0m\u001b[1;33m(\u001b[0m\u001b[0mlen\u001b[0m\u001b[1;33m(\u001b[0m\u001b[0mstr1\u001b[0m\u001b[1;33m)\u001b[0m\u001b[1;33m)\u001b[0m\u001b[1;33m:\u001b[0m\u001b[1;33m\u001b[0m\u001b[0m\n\u001b[0;32m      6\u001b[0m         \u001b[1;32mfor\u001b[0m \u001b[0mj\u001b[0m \u001b[1;32min\u001b[0m \u001b[0mrange\u001b[0m\u001b[1;33m(\u001b[0m\u001b[0mlen\u001b[0m\u001b[1;33m(\u001b[0m\u001b[0mstr2\u001b[0m\u001b[1;33m)\u001b[0m\u001b[1;33m)\u001b[0m\u001b[1;33m:\u001b[0m\u001b[1;33m\u001b[0m\u001b[0m\n\u001b[1;32m----> 7\u001b[1;33m             \u001b[0mret\u001b[0m\u001b[1;33m[\u001b[0m\u001b[0mi\u001b[0m\u001b[1;33m,\u001b[0m\u001b[0mj\u001b[0m\u001b[1;33m]\u001b[0m \u001b[1;33m=\u001b[0m \u001b[0mcheck_short_matching\u001b[0m\u001b[1;33m(\u001b[0m\u001b[0mstr1\u001b[0m\u001b[1;33m[\u001b[0m\u001b[0mi\u001b[0m\u001b[1;33m]\u001b[0m\u001b[1;33m,\u001b[0m\u001b[0mstr2\u001b[0m\u001b[1;33m[\u001b[0m\u001b[0mj\u001b[0m\u001b[1;33m]\u001b[0m\u001b[1;33m)\u001b[0m\u001b[1;33m\u001b[0m\u001b[0m\n\u001b[0m\u001b[0;32m      8\u001b[0m     \u001b[1;32mreturn\u001b[0m \u001b[0mnumpy\u001b[0m\u001b[1;33m.\u001b[0m\u001b[0maverage\u001b[0m\u001b[1;33m(\u001b[0m\u001b[0mret\u001b[0m\u001b[1;33m)\u001b[0m\u001b[1;33m\u001b[0m\u001b[0m\n",
      "\u001b[1;32m<ipython-input-94-dc025e7079f3>\u001b[0m in \u001b[0;36mcheck_short_matching\u001b[1;34m(COL1, COL2)\u001b[0m\n\u001b[0;32m      5\u001b[0m     \u001b[0mCOL1\u001b[0m \u001b[1;33m=\u001b[0m \u001b[0mstr\u001b[0m\u001b[1;33m(\u001b[0m\u001b[0mCOL1\u001b[0m\u001b[1;33m)\u001b[0m\u001b[1;33m\u001b[0m\u001b[0m\n\u001b[0;32m      6\u001b[0m     \u001b[0mCOL2\u001b[0m \u001b[1;33m=\u001b[0m \u001b[0mstr\u001b[0m\u001b[1;33m(\u001b[0m\u001b[0mCOL2\u001b[0m\u001b[1;33m)\u001b[0m\u001b[1;33m\u001b[0m\u001b[0m\n\u001b[1;32m----> 7\u001b[1;33m     \u001b[0msw\u001b[0m \u001b[1;33m=\u001b[0m \u001b[1;33m(\u001b[0m\u001b[0mfuzz\u001b[0m\u001b[1;33m.\u001b[0m\u001b[0mSequenceMatcher\u001b[0m\u001b[1;33m(\u001b[0m\u001b[1;32mNone\u001b[0m\u001b[1;33m,\u001b[0m\u001b[0mCOL1\u001b[0m\u001b[1;33m,\u001b[0m \u001b[0mCOL2\u001b[0m\u001b[1;33m)\u001b[0m\u001b[1;33m.\u001b[0m\u001b[0mratio\u001b[0m\u001b[1;33m(\u001b[0m\u001b[1;33m)\u001b[0m\u001b[1;33m)\u001b[0m\u001b[1;33m\u001b[0m\u001b[0m\n\u001b[0m\u001b[0;32m      8\u001b[0m     \u001b[1;32mreturn\u001b[0m \u001b[0msw\u001b[0m \u001b[1;31m#/(max(len(COL1),len(COL2))*1.0)\u001b[0m\u001b[1;33m\u001b[0m\u001b[0m\n",
      "\u001b[1;32mC:\\Users\\ahmed\\Anaconda3\\lib\\difflib.py\u001b[0m in \u001b[0;36mratio\u001b[1;34m(self)\u001b[0m\n\u001b[0;32m    642\u001b[0m         \"\"\"\n\u001b[0;32m    643\u001b[0m \u001b[1;33m\u001b[0m\u001b[0m\n\u001b[1;32m--> 644\u001b[1;33m         \u001b[0mmatches\u001b[0m \u001b[1;33m=\u001b[0m \u001b[0msum\u001b[0m\u001b[1;33m(\u001b[0m\u001b[0mtriple\u001b[0m\u001b[1;33m[\u001b[0m\u001b[1;33m-\u001b[0m\u001b[1;36m1\u001b[0m\u001b[1;33m]\u001b[0m \u001b[1;32mfor\u001b[0m \u001b[0mtriple\u001b[0m \u001b[1;32min\u001b[0m \u001b[0mself\u001b[0m\u001b[1;33m.\u001b[0m\u001b[0mget_matching_blocks\u001b[0m\u001b[1;33m(\u001b[0m\u001b[1;33m)\u001b[0m\u001b[1;33m)\u001b[0m\u001b[1;33m\u001b[0m\u001b[0m\n\u001b[0m\u001b[0;32m    645\u001b[0m         \u001b[1;32mreturn\u001b[0m \u001b[0m_calculate_ratio\u001b[0m\u001b[1;33m(\u001b[0m\u001b[0mmatches\u001b[0m\u001b[1;33m,\u001b[0m \u001b[0mlen\u001b[0m\u001b[1;33m(\u001b[0m\u001b[0mself\u001b[0m\u001b[1;33m.\u001b[0m\u001b[0ma\u001b[0m\u001b[1;33m)\u001b[0m \u001b[1;33m+\u001b[0m \u001b[0mlen\u001b[0m\u001b[1;33m(\u001b[0m\u001b[0mself\u001b[0m\u001b[1;33m.\u001b[0m\u001b[0mb\u001b[0m\u001b[1;33m)\u001b[0m\u001b[1;33m)\u001b[0m\u001b[1;33m\u001b[0m\u001b[0m\n\u001b[0;32m    646\u001b[0m \u001b[1;33m\u001b[0m\u001b[0m\n",
      "\u001b[1;32mC:\\Users\\ahmed\\Anaconda3\\lib\\difflib.py\u001b[0m in \u001b[0;36mget_matching_blocks\u001b[1;34m(self)\u001b[0m\n\u001b[0;32m    477\u001b[0m         \u001b[1;32mwhile\u001b[0m \u001b[0mqueue\u001b[0m\u001b[1;33m:\u001b[0m\u001b[1;33m\u001b[0m\u001b[0m\n\u001b[0;32m    478\u001b[0m             \u001b[0malo\u001b[0m\u001b[1;33m,\u001b[0m \u001b[0mahi\u001b[0m\u001b[1;33m,\u001b[0m \u001b[0mblo\u001b[0m\u001b[1;33m,\u001b[0m \u001b[0mbhi\u001b[0m \u001b[1;33m=\u001b[0m \u001b[0mqueue\u001b[0m\u001b[1;33m.\u001b[0m\u001b[0mpop\u001b[0m\u001b[1;33m(\u001b[0m\u001b[1;33m)\u001b[0m\u001b[1;33m\u001b[0m\u001b[0m\n\u001b[1;32m--> 479\u001b[1;33m             \u001b[0mi\u001b[0m\u001b[1;33m,\u001b[0m \u001b[0mj\u001b[0m\u001b[1;33m,\u001b[0m \u001b[0mk\u001b[0m \u001b[1;33m=\u001b[0m \u001b[0mx\u001b[0m \u001b[1;33m=\u001b[0m \u001b[0mself\u001b[0m\u001b[1;33m.\u001b[0m\u001b[0mfind_longest_match\u001b[0m\u001b[1;33m(\u001b[0m\u001b[0malo\u001b[0m\u001b[1;33m,\u001b[0m \u001b[0mahi\u001b[0m\u001b[1;33m,\u001b[0m \u001b[0mblo\u001b[0m\u001b[1;33m,\u001b[0m \u001b[0mbhi\u001b[0m\u001b[1;33m)\u001b[0m\u001b[1;33m\u001b[0m\u001b[0m\n\u001b[0m\u001b[0;32m    480\u001b[0m             \u001b[1;31m# a[alo:i] vs b[blo:j] unknown\u001b[0m\u001b[1;33m\u001b[0m\u001b[1;33m\u001b[0m\u001b[0m\n\u001b[0;32m    481\u001b[0m             \u001b[1;31m# a[i:i+k] same as b[j:j+k]\u001b[0m\u001b[1;33m\u001b[0m\u001b[1;33m\u001b[0m\u001b[0m\n",
      "\u001b[1;32mC:\\Users\\ahmed\\Anaconda3\\lib\\difflib.py\u001b[0m in \u001b[0;36mfind_longest_match\u001b[1;34m(self, alo, ahi, blo, bhi)\u001b[0m\n\u001b[0;32m    401\u001b[0m             \u001b[1;31m# b2j has no junk keys, the loop is skipped if a[i] is junk\u001b[0m\u001b[1;33m\u001b[0m\u001b[1;33m\u001b[0m\u001b[0m\n\u001b[0;32m    402\u001b[0m             \u001b[0mj2lenget\u001b[0m \u001b[1;33m=\u001b[0m \u001b[0mj2len\u001b[0m\u001b[1;33m.\u001b[0m\u001b[0mget\u001b[0m\u001b[1;33m\u001b[0m\u001b[0m\n\u001b[1;32m--> 403\u001b[1;33m             \u001b[0mnewj2len\u001b[0m \u001b[1;33m=\u001b[0m \u001b[1;33m{\u001b[0m\u001b[1;33m}\u001b[0m\u001b[1;33m\u001b[0m\u001b[0m\n\u001b[0m\u001b[0;32m    404\u001b[0m             \u001b[1;32mfor\u001b[0m \u001b[0mj\u001b[0m \u001b[1;32min\u001b[0m \u001b[0mb2j\u001b[0m\u001b[1;33m.\u001b[0m\u001b[0mget\u001b[0m\u001b[1;33m(\u001b[0m\u001b[0ma\u001b[0m\u001b[1;33m[\u001b[0m\u001b[0mi\u001b[0m\u001b[1;33m]\u001b[0m\u001b[1;33m,\u001b[0m \u001b[0mnothing\u001b[0m\u001b[1;33m)\u001b[0m\u001b[1;33m:\u001b[0m\u001b[1;33m\u001b[0m\u001b[0m\n\u001b[0;32m    405\u001b[0m                 \u001b[1;31m# a[i] matches b[j]\u001b[0m\u001b[1;33m\u001b[0m\u001b[1;33m\u001b[0m\u001b[0m\n",
      "\u001b[1;31mKeyboardInterrupt\u001b[0m: "
     ]
    }
   ],
   "source": [
    "group1_redic=group1_sim(IMgroup1,RTgroup1)\n",
    "group2_redic=group2_sim(IMgroup2,RTgroup2)\n",
    "group3_redic=group3_sim(IMgroup3,RTgroup3)"
   ]
  },
  {
   "cell_type": "code",
   "execution_count": null,
   "metadata": {
    "collapsed": true
   },
   "outputs": [],
   "source": [
    "group2_redic"
   ]
  },
  {
   "cell_type": "code",
   "execution_count": null,
   "metadata": {
    "collapsed": true
   },
   "outputs": [],
   "source": []
  }
 ],
 "metadata": {
  "kernelspec": {
   "display_name": "Python 3",
   "language": "python",
   "name": "python3"
  },
  "language_info": {
   "codemirror_mode": {
    "name": "ipython",
    "version": 3
   },
   "file_extension": ".py",
   "mimetype": "text/x-python",
   "name": "python",
   "nbconvert_exporter": "python",
   "pygments_lexer": "ipython3",
   "version": "3.6.1"
  }
 },
 "nbformat": 4,
 "nbformat_minor": 2
}
